{
 "cells": [
  {
   "cell_type": "markdown",
   "id": "2374329b",
   "metadata": {},
   "source": [
    "# SQL III: Solutions\n",
    "\n",
    "In this notebook you're going to find some exercises to test what you've learnt in the lesson. You will need also to make some research in the internet to solve some of them.\n",
    "\n",
    "You will find `[db]` or `[dw]` on each exercise, this means where you should perform that exercise;\n",
    "\n",
    "- **[db]**: Is the local mysql instance you created in your computer (Localhost)\n",
    "- **[DW]**: Is the remote mysql instance located in `iosqlde.onairnet.xyz`"
   ]
  },
  {
   "cell_type": "markdown",
   "id": "301e772f",
   "metadata": {},
   "source": [
    "Requirements and help\n",
    "\n",
    "You'll need to import pandas and the mysql connector.\n",
    "\n",
    "Also you can use the sql function we created in class\n",
    "\n",
    "## How to solve\n",
    "\n",
    "You will find an empty var named `command` on each exercise, simply write your SQL code in ther and execute the cell. Check in mysql Workbench if it worked."
   ]
  },
  {
   "cell_type": "code",
   "execution_count": 26,
   "id": "62ac9cb5",
   "metadata": {
    "scrolled": true
   },
   "outputs": [
    {
     "ename": "ProgrammingError",
     "evalue": "1044 (42000): Access denied for user 'assemblerReader'@'%' to database 'sqlCourseEjercicios'",
     "output_type": "error",
     "traceback": [
      "\u001b[0;31m---------------------------------------------------------------------------\u001b[0m",
      "\u001b[0;31mMySQLInterfaceError\u001b[0m                       Traceback (most recent call last)",
      "File \u001b[0;32m/opt/tljh/user/lib/python3.9/site-packages/mysql/connector/connection_cext.py:263\u001b[0m, in \u001b[0;36mCMySQLConnection._open_connection\u001b[0;34m(self)\u001b[0m\n\u001b[1;32m    262\u001b[0m \u001b[38;5;28;01mtry\u001b[39;00m:\n\u001b[0;32m--> 263\u001b[0m     \u001b[38;5;28;43mself\u001b[39;49m\u001b[38;5;241;43m.\u001b[39;49m\u001b[43m_cmysql\u001b[49m\u001b[38;5;241;43m.\u001b[39;49m\u001b[43mconnect\u001b[49m\u001b[43m(\u001b[49m\u001b[38;5;241;43m*\u001b[39;49m\u001b[38;5;241;43m*\u001b[39;49m\u001b[43mcnx_kwargs\u001b[49m\u001b[43m)\u001b[49m\n\u001b[1;32m    264\u001b[0m     \u001b[38;5;28mself\u001b[39m\u001b[38;5;241m.\u001b[39m_cmysql\u001b[38;5;241m.\u001b[39mconverter_str_fallback \u001b[38;5;241m=\u001b[39m \u001b[38;5;28mself\u001b[39m\u001b[38;5;241m.\u001b[39m_converter_str_fallback\n",
      "\u001b[0;31mMySQLInterfaceError\u001b[0m: Access denied for user 'assemblerReader'@'%' to database 'sqlCourseEjercicios'",
      "\nThe above exception was the direct cause of the following exception:\n",
      "\u001b[0;31mProgrammingError\u001b[0m                          Traceback (most recent call last)",
      "Cell \u001b[0;32mIn [26], line 21\u001b[0m\n\u001b[1;32m     18\u001b[0m     \u001b[38;5;28;01mreturn\u001b[39;00m df\n\u001b[1;32m     20\u001b[0m \u001b[38;5;66;03m#Connections\u001b[39;00m\n\u001b[0;32m---> 21\u001b[0m dw \u001b[38;5;241m=\u001b[39m mysql\u001b[38;5;241m.\u001b[39mconnector\u001b[38;5;241m.\u001b[39mconnect(\n\u001b[1;32m     22\u001b[0m   host\u001b[38;5;241m=\u001b[39m\u001b[38;5;124m\"\u001b[39m\u001b[38;5;124miosqlde.onairnet.xyz\u001b[39m\u001b[38;5;124m\"\u001b[39m,\n\u001b[1;32m     23\u001b[0m   user\u001b[38;5;241m=\u001b[39m\u001b[38;5;124m\"\u001b[39m\u001b[38;5;124massemblerReader\u001b[39m\u001b[38;5;124m\"\u001b[39m,\n\u001b[1;32m     24\u001b[0m   password\u001b[38;5;241m=\u001b[39m\u001b[38;5;124m\"\u001b[39m\u001b[38;5;124m!Reader2022\u001b[39m\u001b[38;5;124m\"\u001b[39m,\n\u001b[1;32m     25\u001b[0m   database\u001b[38;5;241m=\u001b[39m\u001b[38;5;124m\"\u001b[39m\u001b[38;5;124msqlCourseEjercicios\u001b[39m\u001b[38;5;124m\"\u001b[39m\n\u001b[1;32m     26\u001b[0m )\n\u001b[1;32m     28\u001b[0m db \u001b[38;5;241m=\u001b[39m mysql\u001b[38;5;241m.\u001b[39mconnector\u001b[38;5;241m.\u001b[39mconnect(\n\u001b[1;32m     29\u001b[0m   host\u001b[38;5;241m=\u001b[39m\u001b[38;5;124m\"\u001b[39m\u001b[38;5;124mlocalhost\u001b[39m\u001b[38;5;124m\"\u001b[39m,\n\u001b[1;32m     30\u001b[0m   user\u001b[38;5;241m=\u001b[39m\u001b[38;5;124m\"\u001b[39m\u001b[38;5;124mYOUR_USER\u001b[39m\u001b[38;5;124m\"\u001b[39m,\n\u001b[1;32m     31\u001b[0m   password\u001b[38;5;241m=\u001b[39m\u001b[38;5;124m\"\u001b[39m\u001b[38;5;124mYOUR_PASSWORD\u001b[39m\u001b[38;5;124m\"\u001b[39m\n\u001b[1;32m     32\u001b[0m )\n",
      "File \u001b[0;32m/opt/tljh/user/lib/python3.9/site-packages/mysql/connector/pooling.py:286\u001b[0m, in \u001b[0;36mconnect\u001b[0;34m(*args, **kwargs)\u001b[0m\n\u001b[1;32m    283\u001b[0m         \u001b[38;5;28;01mraise\u001b[39;00m \u001b[38;5;167;01mImportError\u001b[39;00m(ERROR_NO_CEXT)\n\u001b[1;32m    285\u001b[0m \u001b[38;5;28;01mif\u001b[39;00m CMySQLConnection \u001b[38;5;129;01mand\u001b[39;00m \u001b[38;5;129;01mnot\u001b[39;00m use_pure:\n\u001b[0;32m--> 286\u001b[0m     \u001b[38;5;28;01mreturn\u001b[39;00m \u001b[43mCMySQLConnection\u001b[49m\u001b[43m(\u001b[49m\u001b[38;5;241;43m*\u001b[39;49m\u001b[43margs\u001b[49m\u001b[43m,\u001b[49m\u001b[43m \u001b[49m\u001b[38;5;241;43m*\u001b[39;49m\u001b[38;5;241;43m*\u001b[39;49m\u001b[43mkwargs\u001b[49m\u001b[43m)\u001b[49m\n\u001b[1;32m    287\u001b[0m \u001b[38;5;28;01mreturn\u001b[39;00m MySQLConnection(\u001b[38;5;241m*\u001b[39margs, \u001b[38;5;241m*\u001b[39m\u001b[38;5;241m*\u001b[39mkwargs)\n",
      "File \u001b[0;32m/opt/tljh/user/lib/python3.9/site-packages/mysql/connector/connection_cext.py:101\u001b[0m, in \u001b[0;36mCMySQLConnection.__init__\u001b[0;34m(self, **kwargs)\u001b[0m\n\u001b[1;32m     98\u001b[0m \u001b[38;5;28msuper\u001b[39m()\u001b[38;5;241m.\u001b[39m\u001b[38;5;21m__init__\u001b[39m()\n\u001b[1;32m    100\u001b[0m \u001b[38;5;28;01mif\u001b[39;00m kwargs:\n\u001b[0;32m--> 101\u001b[0m     \u001b[38;5;28;43mself\u001b[39;49m\u001b[38;5;241;43m.\u001b[39;49m\u001b[43mconnect\u001b[49m\u001b[43m(\u001b[49m\u001b[38;5;241;43m*\u001b[39;49m\u001b[38;5;241;43m*\u001b[39;49m\u001b[43mkwargs\u001b[49m\u001b[43m)\u001b[49m\n",
      "File \u001b[0;32m/opt/tljh/user/lib/python3.9/site-packages/mysql/connector/abstracts.py:1095\u001b[0m, in \u001b[0;36mMySQLConnectionAbstract.connect\u001b[0;34m(self, **kwargs)\u001b[0m\n\u001b[1;32m   1092\u001b[0m     \u001b[38;5;28mself\u001b[39m\u001b[38;5;241m.\u001b[39mconfig(\u001b[38;5;241m*\u001b[39m\u001b[38;5;241m*\u001b[39mkwargs)\n\u001b[1;32m   1094\u001b[0m \u001b[38;5;28mself\u001b[39m\u001b[38;5;241m.\u001b[39mdisconnect()\n\u001b[0;32m-> 1095\u001b[0m \u001b[38;5;28;43mself\u001b[39;49m\u001b[38;5;241;43m.\u001b[39;49m\u001b[43m_open_connection\u001b[49m\u001b[43m(\u001b[49m\u001b[43m)\u001b[49m\n\u001b[1;32m   1096\u001b[0m \u001b[38;5;66;03m# Server does not allow to run any other statement different from ALTER\u001b[39;00m\n\u001b[1;32m   1097\u001b[0m \u001b[38;5;66;03m# when user's password has been expired.\u001b[39;00m\n\u001b[1;32m   1098\u001b[0m \u001b[38;5;28;01mif\u001b[39;00m \u001b[38;5;129;01mnot\u001b[39;00m \u001b[38;5;28mself\u001b[39m\u001b[38;5;241m.\u001b[39m_client_flags \u001b[38;5;241m&\u001b[39m ClientFlag\u001b[38;5;241m.\u001b[39mCAN_HANDLE_EXPIRED_PASSWORDS:\n",
      "File \u001b[0;32m/opt/tljh/user/lib/python3.9/site-packages/mysql/connector/connection_cext.py:268\u001b[0m, in \u001b[0;36mCMySQLConnection._open_connection\u001b[0;34m(self)\u001b[0m\n\u001b[1;32m    266\u001b[0m         \u001b[38;5;28mself\u001b[39m\u001b[38;5;241m.\u001b[39mconverter\u001b[38;5;241m.\u001b[39mstr_fallback \u001b[38;5;241m=\u001b[39m \u001b[38;5;28mself\u001b[39m\u001b[38;5;241m.\u001b[39m_converter_str_fallback\n\u001b[1;32m    267\u001b[0m \u001b[38;5;28;01mexcept\u001b[39;00m MySQLInterfaceError \u001b[38;5;28;01mas\u001b[39;00m err:\n\u001b[0;32m--> 268\u001b[0m     \u001b[38;5;28;01mraise\u001b[39;00m get_mysql_exception(\n\u001b[1;32m    269\u001b[0m         msg\u001b[38;5;241m=\u001b[39merr\u001b[38;5;241m.\u001b[39mmsg, errno\u001b[38;5;241m=\u001b[39merr\u001b[38;5;241m.\u001b[39merrno, sqlstate\u001b[38;5;241m=\u001b[39merr\u001b[38;5;241m.\u001b[39msqlstate\n\u001b[1;32m    270\u001b[0m     ) \u001b[38;5;28;01mfrom\u001b[39;00m \u001b[38;5;21;01merr\u001b[39;00m\n\u001b[1;32m    272\u001b[0m \u001b[38;5;28mself\u001b[39m\u001b[38;5;241m.\u001b[39m_do_handshake()\n",
      "\u001b[0;31mProgrammingError\u001b[0m: 1044 (42000): Access denied for user 'assemblerReader'@'%' to database 'sqlCourseEjercicios'"
     ]
    }
   ],
   "source": [
    "#Imports\n",
    "import pandas as pd\n",
    "import mysql.connector\n",
    "\n",
    "#SQL Function\n",
    "def sql(_query, _con):\n",
    "    \n",
    "    cursor = _con.cursor()\n",
    "    cursor.execute(_query)\n",
    "    \n",
    "    cols = cursor.column_names\n",
    "    data = cursor.fetchall()\n",
    "    \n",
    "    _con.commit()\n",
    "    \n",
    "    df = pd.DataFrame(data, columns=cols)\n",
    "    \n",
    "    return df\n",
    "\n",
    "#Connections\n",
    "dw = mysql.connector.connect(\n",
    "  host=\"iosqlde.onairnet.xyz\",\n",
    "  user=\"assemblerReader\",\n",
    "  password=\"!Reader2022\",\n",
    "  database=\"sqlCourseEjercicios\"\n",
    ")\n",
    "\n",
    "db = mysql.connector.connect(\n",
    "  host=\"localhost\",\n",
    "  user=\"YOUR_USER\",\n",
    "  password=\"YOUR_PASSWORD\"\n",
    ")"
   ]
  },
  {
   "cell_type": "markdown",
   "id": "5b0725ee",
   "metadata": {},
   "source": [
    "## 1.- The ecommerce [db]\n",
    "\n",
    "From the ecommerce description create all the tables needed, read carefully. On those statements you'll find the fields needed for each table also.\n",
    "\n",
    "- This ecommerce will sell clothes (t-shirts, trousers and shoes).\n",
    "- They are building a CRM to manage the relationship with their customers and providers.\n",
    "- In the CMS they'll store all the product information like price, stock, the provider, the buying price, the selling price, the tax %, the product name, the brief description, the long description, and the status of the product.\n",
    "- They want to create a personaliced experience for their customers and they want to offer the possibility to request bills of their purchases with the basic information of a bill.\n",
    "- They'll need to store all their customer data (name, surname, age, email, phone, etc ...)\n",
    "- Their customers can make orders from different address and have different address for billing and shipping\n",
    "- They want to offer promocodes to their customers of two types (amount discount and % discount), they want to limit also how many times those promocodes can be used\n"
   ]
  },
  {
   "cell_type": "markdown",
   "id": "78aea2e8",
   "metadata": {},
   "source": [
    "### A - Create a database"
   ]
  },
  {
   "cell_type": "code",
   "execution_count": null,
   "id": "bad71978",
   "metadata": {},
   "outputs": [],
   "source": [
    "command = \"\"\"\n",
    "    CREATE DATABASE `dbEcommerce` ;\n",
    "\"\"\"\n",
    "sql(command, dw)"
   ]
  },
  {
   "cell_type": "markdown",
   "id": "ab533e4c",
   "metadata": {},
   "source": [
    "### B - Create the tables\n",
    "\n",
    "Read the statements of the case presented above and create all the tables needed for them.\n",
    "Pay attention to the columns formatting"
   ]
  },
  {
   "cell_type": "code",
   "execution_count": null,
   "id": "e66a20d1",
   "metadata": {},
   "outputs": [],
   "source": [
    "command1 = \"\"\"\n",
    "    CREATE TABLE `dbEcommerce`.`ecommerce_products` (\n",
    "  `productID` INT NOT NULL AUTO_INCREMENT,\n",
    "  `name` VARCHAR(45) NULL,\n",
    "  `price` FLOAT NULL,\n",
    "  `stock` INT NULL,\n",
    "  `provider` VARCHAR(45) NULL,\n",
    "  `cost` FLOAT NULL,\n",
    "  `tax` FLOAT NULL,\n",
    "  `description` VARCHAR(450) NULL,\n",
    "  `longDescription` LONGTEXT NULL,\n",
    "  `status` VARCHAR(45) NULL,\n",
    "  PRIMARY KEY (`productID`));\n",
    "\"\"\""
   ]
  },
  {
   "cell_type": "markdown",
   "id": "dd347e07-968f-46ea-87a1-26748c326bd1",
   "metadata": {},
   "source": [
    "Other tables to create:\n",
    "- bills (id, date creation, amount, tax)\n",
    "- bills_lines (lineID, billID, productID, price, amount, tax)\n",
    "- customers (id, name, email, phone, languaje)\n",
    "- customers_address (id, customerID, address, cp, city, county, isPrimary)\n",
    "- promos (id, code, type, amount, status, maxUses, uses)"
   ]
  },
  {
   "cell_type": "markdown",
   "id": "d0cc6adf",
   "metadata": {},
   "source": [
    "### C - Insert data in the tables\n",
    "\n",
    "Insert at leat 5 items on each table"
   ]
  },
  {
   "cell_type": "code",
   "execution_count": null,
   "id": "471a296c",
   "metadata": {},
   "outputs": [],
   "source": [
    "command = \"\"\"\n",
    "    INSERT INTO `dbEcommerce`.`ecommerce_products` \n",
    "    (`productID`, `name`, `price`, `stock`, `provider`, `cost`, `tax`, `description`, `longDescription`, `status`) \n",
    "    VALUES (\n",
    "    '1001', \n",
    "    'Blue T-Shirt Cat', \n",
    "    '25', \n",
    "    '100', \n",
    "    'Cattos SL', \n",
    "    '10', \n",
    "    '0.21', \n",
    "    'Pretty t-shit with a smiling cat', \n",
    "    'Buy this T-Shirt to feel like the cattest in you house', \n",
    "    'Available');\n",
    "\n",
    "\"\"\"\n",
    "sql(command, db)"
   ]
  },
  {
   "cell_type": "markdown",
   "id": "b9e88561",
   "metadata": {},
   "source": [
    "## 2.- The kitchen store [db]\n",
    "\n",
    "A company that sells kitchens wants to increase its control over the elements that affect it. As a result of the analysis it carries out, it obtains the following information:\n",
    "\n",
    "- There are a number of manufacturers of kitchen furniture. \n",
    "\n",
    "- Each manufacturer has a name, address and a list of telephone numbers. \n",
    "\n",
    "- Each manufacturer produces several pieces of kitchen furniture. \n",
    "\n",
    "- A kitchen unit has a certain line, a certain colour, a certain size (width, height, length) and can have one of the following categories: wall unit, base unit, panel and worktop. \n",
    "\n",
    "- For base units it is important to know the height above the floor and for worktops it is important to know the type of worktop (marble or agglomerate).\n",
    "\n",
    "- Each manufacturer can work with several distributors and each distributor works with at least one manufacturer. \n",
    "\n",
    "- A distributor's name, address and a list of telephone numbers are available.\n",
    "\n",
    "- A kitchen is identified by a code and we are interested in knowing the number of pieces of furniture that make it up.\n",
    "\n",
    "- Each kitchen can be sold by only one distributor, although each distributor can sell several kitchens. A distributor can give a kitchen to another distributor, so that the latter can sell it.\n",
    "\n",
    "- Each kitchen must be assembled by at least one assembler and the same assembler can assemble several kitchens. We are interested in the assembler's VAT number, name, address, unique telephone number and the number of kitchens he has assembled.\n",
    "\n",
    "- Each kitchen can be bought by one or more customers and the same customer can buy several kitchens. We are interested in a customer's VAT number, name, address and unique telephone number.\n"
   ]
  },
  {
   "cell_type": "markdown",
   "id": "1f2309a4",
   "metadata": {},
   "source": [
    "### A - Create a database [db]"
   ]
  },
  {
   "cell_type": "code",
   "execution_count": null,
   "id": "7c57c453",
   "metadata": {},
   "outputs": [],
   "source": [
    "command = \"\"\"\n",
    "    CREATE DATABASE kitchens\n",
    "\"\"\"\n",
    "sql(command, db)"
   ]
  },
  {
   "cell_type": "markdown",
   "id": "0054b54a",
   "metadata": {},
   "source": [
    "### B - Create the tables\n",
    "\n",
    "Read the statements of the case presented above and create all the tables needed for them.\n",
    "Pay attention to the columns formatting"
   ]
  },
  {
   "cell_type": "markdown",
   "id": "a29bb9e8-f782-4987-9079-e901dd39f026",
   "metadata": {},
   "source": [
    "This are the required tables:\n",
    "\n",
    "- Manufacturers (id, name, address, country)\n",
    "- kitchen_units (id, manufacturer, colour, width, height, lenght, category)\n",
    "- base_units_data (id, unitID, heightFloor, worktopType)\n",
    "- distributors (id, name, address, email)\n",
    "- distributors_phones (phoneNumber, distributorID)\n",
    "- kitchen_pieces (id, kitchenID, unitID)\n",
    "- kitchens (id, pieces, distributorID, delegatedBy, assemblerID)\n",
    "- assemblers (id, VAT, name, address, phone)\n",
    "- orders (id, customerID, assemblerID, kitchenID)\n",
    "- customers (id, vat, name, address, phone)"
   ]
  },
  {
   "cell_type": "markdown",
   "id": "6a98dc5d",
   "metadata": {},
   "source": [
    "### C - Insert data in the tables\n",
    "\n",
    "Insert at leat 5 items on each table\n",
    "\n",
    "USE `INSERT INTO` command"
   ]
  },
  {
   "cell_type": "markdown",
   "id": "a0f40e8a",
   "metadata": {},
   "source": [
    "## 3.- The yatcht club [db]\n",
    "\n",
    "A yacht club wants to have computerised data on its facilities, employees, members and boats that are in the club. The club is organised as follows:\n",
    "\n",
    "- The members belonging to the club are defined by their name, address, ID number, telephone number and date of joining the club.\n",
    " \n",
    "- The boats are defined by: registration number, name, type and dimensions.\n",
    " \n",
    "- The moorings have as data of interest the mooring number, the water and electricity meter reading, and whether or not they have contracted maintenance services.\n",
    "\n",
    "- On the other hand, it must be taken into account that a boat belongs to one member, although a member can have several boats. A boat will occupy a mooring and a mooring is occupied by only one boat. The date on which a vessel is assigned to a mooring is important.\n",
    "\n",
    "- Members can own moorings, with the date of purchase of the mooring being important. It should be noted that a mooring belongs to only one member. \n",
    "\n",
    "- The yacht club is divided into several zones defined by a letter. A zone will have several moorings and a mooring belongs to only one zone.\n",
    "\n",
    "- As for the employees, they are defined by their code, name, address, telephone and speciality. An employee is assigned to several zones and in a zone there can be more than one employee, being of interest the number of boats he/she is in charge of in each zone. It should be noted that one employee may not be responsible for all the vessels in a zone.\n"
   ]
  },
  {
   "cell_type": "markdown",
   "id": "27474d68",
   "metadata": {},
   "source": [
    "### A - Create a database"
   ]
  },
  {
   "cell_type": "code",
   "execution_count": null,
   "id": "9897174b",
   "metadata": {},
   "outputs": [],
   "source": [
    "command = \"\"\"\n",
    "    CREATE DATABASE yatch\n",
    "\"\"\"\n",
    "sql(command, db)"
   ]
  },
  {
   "cell_type": "markdown",
   "id": "75dbc5ba",
   "metadata": {},
   "source": [
    "### B - Create the tables\n",
    "\n",
    "Read the statements of the case presented above and create all the tables needed for them.\n",
    "Pay attention to the columns formatting"
   ]
  },
  {
   "cell_type": "markdown",
   "id": "a457cfc1-8d8a-4cc5-b5b8-4f7c3761b53f",
   "metadata": {},
   "source": [
    "This are the required tables:\n",
    "\n",
    "- members (dni, name, address, phone, joinDate)\n",
    "- boats (regNumber, name, type, dimensions, memberID)\n",
    "- moorings (number, waterLevel, electricity, maintenance, memberID, purchaseDate, zone)\n",
    "- parkings (id, dateStart, dateEnd, boatID, mooringNumber)\n",
    "- employees (code, name, address, phone, speciality)\n",
    "- employees_zones (id, zoneID, employeeID)"
   ]
  },
  {
   "cell_type": "markdown",
   "id": "33d44467",
   "metadata": {},
   "source": [
    "### C - Insert data in the tables\n",
    "\n",
    "Insert at leat 5 items on each table\n",
    "\n",
    "USE `INSERT INTO` command"
   ]
  },
  {
   "cell_type": "markdown",
   "id": "7b5a2bc6",
   "metadata": {},
   "source": [
    "## 4.- Hotel Reviews [db]\n",
    "\n",
    "Download this dataset: https://www.kaggle.com/datasets/jiashenliu/515k-hotel-reviews-data-in-europe"
   ]
  },
  {
   "cell_type": "markdown",
   "id": "5871ece1",
   "metadata": {},
   "source": [
    "### B - Create the table to host the data\n",
    "\n",
    "Read the statements of the case presented above and create all the tables needed for them.\n",
    "Pay attention to the columns formatting"
   ]
  },
  {
   "cell_type": "code",
   "execution_count": null,
   "id": "ffeac03c",
   "metadata": {},
   "outputs": [],
   "source": [
    "command = \"\"\"\n",
    "CREATE TABLE `hotel_reviews` (\n",
    "  `id` int NOT NULL AUTO_INCREMENT,\n",
    "  `address` varchar(255) DEFAULT NULL,\n",
    "  `scoring` int DEFAULT NULL,\n",
    "  `date` date DEFAULT NULL,\n",
    "  `avgScore` float DEFAULT NULL,\n",
    "  `hotelName` varchar(95) DEFAULT NULL,\n",
    "  `nationality` varchar(95) DEFAULT NULL,\n",
    "  `NegativeReview` longtext,\n",
    "  `negativeWords` int DEFAULT NULL,\n",
    "  `totalReviews` int DEFAULT NULL,\n",
    "  `Positive_Review` longtext,\n",
    "  `positiveWords` int DEFAULT NULL,\n",
    "  `reviewsGiven` int DEFAULT NULL,\n",
    "  `reviewerScore` float DEFAULT NULL,\n",
    "  `tags` longtext,\n",
    "  `daysSince` varchar(25) DEFAULT NULL,\n",
    "  `lat` varchar(45) DEFAULT NULL,\n",
    "  `long` varchar(45) DEFAULT NULL,\n",
    "  PRIMARY KEY (`id`)\n",
    ")\n",
    "\n",
    "\"\"\"\n",
    "sql(command, db)"
   ]
  },
  {
   "cell_type": "markdown",
   "id": "62860c1a",
   "metadata": {},
   "source": [
    "### C - Insert data in the tables\n",
    "\n",
    "Build the `INSERT` statement and replace the values for the vars in a for loop"
   ]
  },
  {
   "cell_type": "code",
   "execution_count": 19,
   "id": "8bd93a32-f994-4ccf-a2a1-55ad67d47a77",
   "metadata": {},
   "outputs": [],
   "source": [
    "dw = mysql.connector.connect(\n",
    "  host=\"iosqlde.onairnet.xyz\",\n",
    "  user=\"drubio\",\n",
    "  password=\"Sifon7927@\",\n",
    "  database=\"sqlCourseEjercicios\"\n",
    ")"
   ]
  },
  {
   "cell_type": "code",
   "execution_count": 23,
   "id": "ebb1fd48-c04e-4eb0-9d80-c114de13262a",
   "metadata": {},
   "outputs": [],
   "source": [
    "#import Pandas\n",
    "\n",
    "# Load here the CSV\n",
    "\n",
    "dataframe = pd.read_csv('Hotel_Reviews.csv')\n",
    "\n",
    "cursor = dw.cursor()"
   ]
  },
  {
   "cell_type": "code",
   "execution_count": 25,
   "id": "5c037c79",
   "metadata": {},
   "outputs": [],
   "source": [
    "# Loop to load the data\n",
    "\n",
    "for i in dataframe.index:\n",
    "    row = dataframe.iloc[i].to_dict()\n",
    "    \n",
    "    sent = \"\"\n",
    "    for col in dataframe.columns:\n",
    "        sent = sent +', \"' + str(row[col]).replace(\"'\",\"\") + '\"'\n",
    "    \n",
    "    sent = \" NULL, \" + sent[2:]\n",
    "    sql_command = f\"\"\"\n",
    "        INSERT INTO hotel_reviews VALUES ({sent})\n",
    "    \"\"\"\n",
    "    \n",
    "    cursor.execute(sql_command)\n",
    "    dw.commit()"
   ]
  },
  {
   "cell_type": "markdown",
   "id": "1d181b10",
   "metadata": {},
   "source": [
    "### D - Perform the following queries\n",
    "\n",
    "Using the table you just created, perform this queries\n",
    "\n",
    "1. Get a list of the nationalities of the reviewers\n",
    "2. Get a list of the hotels names\n",
    "3. Get the first 10 reviews\n",
    "5. Get the last 10 reviews\n",
    "6. Get the hotels from Amsterdam\n",
    "7. Get the oldest review\n",
    "8. Get the newest review\n",
    "9. Get the best review not mentioning the breakfast\n",
    "10. Get a bad review mentioning location"
   ]
  },
  {
   "cell_type": "markdown",
   "id": "fa1f3a98-dae4-4d00-969a-54c98fd3c56c",
   "metadata": {},
   "source": [
    "1. `SELECT DISTINCT(nationality) FROM hotel_reviews;`\n",
    "2. `SELECT DISTINCT(hotelName) FROM hotel_reviews;`\n",
    "3. `SELECT * FROM hotel_reviews LIMIT 10;`\n",
    "4. `SELECT * FROM hotel_reviews order by date ASC LIMIT 10;`\n",
    "5. `SELECT DISTINCT(hotelName) FROM hotel_reviews WHERE address LIKE '%amsterdam%';`\n",
    "6. `SELECT * FROM hotel_reviews order by date ASC LIMIT 1;`\n",
    "7. `SELECT * FROM hotel_reviews order by date DESC LIMIT 1;`\n",
    "8. `SELECT * FROM hotel_reviews WHERE Positive_Review NOT LIKE '%breakfast%' AND  NegativeReview NOT LIKE '%breakfast%' ORDER BY reviewerScore DESC LIMIT 1;`\n",
    "9. `SELECT * FROM hotel_reviews WHERE Positive_Review LIKE '%location%' OR  NegativeReview LIKE '%location%' ORDER BY reviewerScore ASC LIMIT 1;`"
   ]
  }
 ],
 "metadata": {
  "kernelspec": {
   "display_name": "Python 3 (ipykernel)",
   "language": "python",
   "name": "python3"
  },
  "language_info": {
   "codemirror_mode": {
    "name": "ipython",
    "version": 3
   },
   "file_extension": ".py",
   "mimetype": "text/x-python",
   "name": "python",
   "nbconvert_exporter": "python",
   "pygments_lexer": "ipython3",
   "version": "3.9.7"
  }
 },
 "nbformat": 4,
 "nbformat_minor": 5
}
