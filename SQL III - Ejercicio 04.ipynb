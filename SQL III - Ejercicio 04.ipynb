{
 "cells": [
  {
   "cell_type": "markdown",
   "id": "c3edd395-de0b-436e-bb58-686276a28106",
   "metadata": {},
   "source": [
    "# SQL III: Exercises\n",
    "\n",
    "In this notebook you're going to find some exercises to test what you've learnt in the lesson. You will need also to make some research in the internet to solve some of them.\n",
    "\n",
    "You will find `[db]` or `[dw]` on each exercise, this means where you should perform that exercise;\n",
    "\n",
    "- **[db]**: Is the local mysql instance you created in your computer (Localhost)\n",
    "- **[DW]**: Is the remote mysql instance located in `iosqlde.onairnet.xyz`\n",
    "\n",
    "Requirements and help\n",
    "\n",
    "You'll need to import pandas and the mysql connector.\n",
    "\n",
    "Also you can use the sql function we created in class\n",
    "\n",
    "## How to solve\n",
    "\n",
    "- You will find an empty var named `command` on each exercise, simply write your SQL code in ther and execute the cell. \n",
    "- Copy that cell as much times as commands you need to execute\n",
    "- Check in mysql Workbench if it worked."
   ]
  },
  {
   "cell_type": "code",
   "execution_count": null,
   "id": "fae7a016-4d4e-4e46-8781-31653c0f4a73",
   "metadata": {},
   "outputs": [],
   "source": [
    "#Imports\n",
    "import pandas as pd\n",
    "import mysql.connector\n",
    "\n",
    "#SQL Function\n",
    "def sql(_query, _con):\n",
    "    \n",
    "    cursor = _con.cursor()\n",
    "    cursor.execute(_query)\n",
    "    \n",
    "    cols = cursor.column_names\n",
    "    data = cursor.fetchall()\n",
    "    \n",
    "    _con.commit()\n",
    "    \n",
    "    df = pd.DataFrame(data, columns=cols)\n",
    "    \n",
    "    return df\n",
    "\n",
    "#Connections\n",
    "dw = mysql.connector.connect(\n",
    "  host=\"iosqlde.onairnet.xyz\",\n",
    "  user=\"assemblerReader\",\n",
    "  password=\"!Reader2022\",\n",
    "  database=\"sqlCourse\"\n",
    ")\n",
    "\n",
    "db = mysql.connector.connect(\n",
    "  host=\"localhost\",\n",
    "  user=\"YOUR_USER\",\n",
    "  password=\"YOUR_PASSWORD\"\n",
    ")"
   ]
  },
  {
   "cell_type": "code",
   "execution_count": null,
   "id": "8be89d02-3d22-4a47-99c5-3d461c7ebcc1",
   "metadata": {},
   "outputs": [],
   "source": [
    "command = \"\"\"\n",
    "\n",
    "\"\"\"\n",
    "sql(command, db)"
   ]
  },
  {
   "cell_type": "markdown",
   "id": "da87f2e7-0ff5-4384-9d2f-39e85e8fe5a4",
   "metadata": {
    "tags": []
   },
   "source": [
    "## 4.- Hotel Reviews [db]\n",
    "\n",
    "Download this dataset: https://www.kaggle.com/datasets/jiashenliu/515k-hotel-reviews-data-in-europe"
   ]
  },
  {
   "cell_type": "markdown",
   "id": "57f718b5-a8b1-489e-8831-67377e5c7554",
   "metadata": {},
   "source": [
    "### A - Create a database\n",
    "\n",
    "### B - Create the tables\n",
    "\n",
    "Read the statements of the case presented above and create all the tables needed for them.\n",
    "Pay attention to the columns formatting\n",
    "\n",
    "### C - Insert data in the tables\n",
    "\n",
    "Build the `INSERT` statement and replace the values for the vars in a for loop"
   ]
  },
  {
   "cell_type": "markdown",
   "id": "b547a5cf-fe29-47af-9cbc-210de1a3059a",
   "metadata": {},
   "source": [
    "### D - Perform the following queries\n",
    "\n",
    "Using the table you just created, perform this queries\n",
    "\n",
    "1. Get a list of the nationalities of the reviewers\n",
    "2. Get a list of the hotels names\n",
    "3. Get the first 10 reviews\n",
    "5. Get the last 10 reviews\n",
    "6. Get the hotels from Amsterdam\n",
    "7. Get the oldest review\n",
    "8. Get the newest review\n",
    "9. Get the best review not mentioning the breakfast\n",
    "10. Get a bad review mentioning location"
   ]
  }
 ],
 "metadata": {
  "kernelspec": {
   "display_name": "Python 3 (ipykernel)",
   "language": "python",
   "name": "python3"
  },
  "language_info": {
   "codemirror_mode": {
    "name": "ipython",
    "version": 3
   },
   "file_extension": ".py",
   "mimetype": "text/x-python",
   "name": "python",
   "nbconvert_exporter": "python",
   "pygments_lexer": "ipython3",
   "version": "3.9.7"
  }
 },
 "nbformat": 4,
 "nbformat_minor": 5
}
