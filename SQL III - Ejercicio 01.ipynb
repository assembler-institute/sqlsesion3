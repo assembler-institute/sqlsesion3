{
 "cells": [
  {
   "cell_type": "markdown",
   "id": "c3edd395-de0b-436e-bb58-686276a28106",
   "metadata": {},
   "source": [
    "# SQL III: Exercises\n",
    "\n",
    "In this notebook you're going to find some exercises to test what you've learnt in the lesson. You will need also to make some research in the internet to solve some of them.\n",
    "\n",
    "You will find `[db]` or `[dw]` on each exercise, this means where you should perform that exercise;\n",
    "\n",
    "- **[db]**: Is the local mysql instance you created in your computer (Localhost)\n",
    "- **[DW]**: Is the remote mysql instance located in `iosqlde.onairnet.xyz`\n",
    "\n",
    "Requirements and help\n",
    "\n",
    "You'll need to import pandas and the mysql connector.\n",
    "\n",
    "Also you can use the sql function we created in class\n",
    "\n",
    "## How to solve\n",
    "\n",
    "- You will find an empty var named `command` on each exercise, simply write your SQL code in ther and execute the cell. \n",
    "- Copy that cell as much times as commands you need to execute\n",
    "- Check in mysql Workbench if it worked."
   ]
  },
  {
   "cell_type": "code",
   "execution_count": null,
   "id": "fae7a016-4d4e-4e46-8781-31653c0f4a73",
   "metadata": {},
   "outputs": [],
   "source": [
    "#Imports\n",
    "import pandas as pd\n",
    "import mysql.connector\n",
    "\n",
    "#SQL Function\n",
    "def sql(_query, _con):\n",
    "    \n",
    "    cursor = _con.cursor()\n",
    "    cursor.execute(_query)\n",
    "    \n",
    "    cols = cursor.column_names\n",
    "    data = cursor.fetchall()\n",
    "    \n",
    "    _con.commit()\n",
    "    \n",
    "    df = pd.DataFrame(data, columns=cols)\n",
    "    \n",
    "    return df\n",
    "\n",
    "#Connections\n",
    "dw = mysql.connector.connect(\n",
    "  host=\"iosqlde.onairnet.xyz\",\n",
    "  user=\"assemblerReader\",\n",
    "  password=\"!Reader2022\",\n",
    "  database=\"sqlCourse\"\n",
    ")\n",
    "\n",
    "db = mysql.connector.connect(\n",
    "  host=\"localhost\",\n",
    "  user=\"YOUR_USER\",\n",
    "  password=\"YOUR_PASSWORD\"\n",
    ")"
   ]
  },
  {
   "cell_type": "code",
   "execution_count": null,
   "id": "8be89d02-3d22-4a47-99c5-3d461c7ebcc1",
   "metadata": {},
   "outputs": [],
   "source": [
    "command = \"\"\"\n",
    "\n",
    "\"\"\"\n",
    "sql(command, db)"
   ]
  },
  {
   "cell_type": "markdown",
   "id": "da87f2e7-0ff5-4384-9d2f-39e85e8fe5a4",
   "metadata": {
    "tags": []
   },
   "source": [
    "## 1.- The ecommerce [db]\n",
    "\n",
    "From the ecommerce description create all the tables needed, read carefully. On those statements you'll find the fields needed for each table also.\n",
    "\n",
    "- This ecommerce will sell clothes (t-shirts, trousers and shoes).\n",
    "- They are building a CRM to manage the relationship with their customers and providers.\n",
    "- In the CMS they'll store all the product information like price, stock, the provider, the buying price, the selling price, the tax %, the product name, the brief description, the long description, and the status of the product.\n",
    "- They want to create a personaliced experience for their customers and they want to offer the possibility to request bills of their purchases with the basic information of a bill.\n",
    "- They'll need to store all their customer data (name, surname, age, email, phone, etc ...)\n",
    "- Their customers can make orders from different address and have different address for billing and shipping\n",
    "- They want to offer promocodes to their customers of two types (amount discount and % discount), they want to limit also how many times those promocodes can be used\n"
   ]
  },
  {
   "cell_type": "markdown",
   "id": "57f718b5-a8b1-489e-8831-67377e5c7554",
   "metadata": {},
   "source": [
    "### A - Create a database\n",
    "\n",
    "### B - Create the tables\n",
    "\n",
    "Read the statements of the case presented above and create all the tables needed for them.\n",
    "Pay attention to the columns formatting\n",
    "\n",
    "### C - Insert data in the tables\n",
    "\n",
    "Insert at leat 5 items on each table"
   ]
  }
 ],
 "metadata": {
  "kernelspec": {
   "display_name": "Python 3 (ipykernel)",
   "language": "python",
   "name": "python3"
  },
  "language_info": {
   "codemirror_mode": {
    "name": "ipython",
    "version": 3
   },
   "file_extension": ".py",
   "mimetype": "text/x-python",
   "name": "python",
   "nbconvert_exporter": "python",
   "pygments_lexer": "ipython3",
   "version": "3.9.7"
  }
 },
 "nbformat": 4,
 "nbformat_minor": 5
}
