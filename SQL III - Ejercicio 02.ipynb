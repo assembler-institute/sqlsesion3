{
 "cells": [
  {
   "cell_type": "markdown",
   "id": "c3edd395-de0b-436e-bb58-686276a28106",
   "metadata": {},
   "source": [
    "# SQL III: Exercises\n",
    "\n",
    "In this notebook you're going to find some exercises to test what you've learnt in the lesson. You will need also to make some research in the internet to solve some of them.\n",
    "\n",
    "You will find `[db]` or `[dw]` on each exercise, this means where you should perform that exercise;\n",
    "\n",
    "- **[db]**: Is the local mysql instance you created in your computer (Localhost)\n",
    "- **[DW]**: Is the remote mysql instance located in `iosqlde.onairnet.xyz`\n",
    "\n",
    "Requirements and help\n",
    "\n",
    "You'll need to import pandas and the mysql connector.\n",
    "\n",
    "Also you can use the sql function we created in class\n",
    "\n",
    "## How to solve\n",
    "\n",
    "- You will find an empty var named `command` on each exercise, simply write your SQL code in ther and execute the cell. \n",
    "- Copy that cell as much times as commands you need to execute\n",
    "- Check in mysql Workbench if it worked."
   ]
  },
  {
   "cell_type": "code",
   "execution_count": null,
   "id": "fae7a016-4d4e-4e46-8781-31653c0f4a73",
   "metadata": {},
   "outputs": [],
   "source": [
    "#Imports\n",
    "import pandas as pd\n",
    "import mysql.connector\n",
    "\n",
    "#SQL Function\n",
    "def sql(_query, _con):\n",
    "    \n",
    "    cursor = _con.cursor()\n",
    "    cursor.execute(_query)\n",
    "    \n",
    "    cols = cursor.column_names\n",
    "    data = cursor.fetchall()\n",
    "    \n",
    "    _con.commit()\n",
    "    \n",
    "    df = pd.DataFrame(data, columns=cols)\n",
    "    \n",
    "    return df\n",
    "\n",
    "#Connections\n",
    "dw = mysql.connector.connect(\n",
    "  host=\"iosqlde.onairnet.xyz\",\n",
    "  user=\"assemblerReader\",\n",
    "  password=\"!Reader2022\",\n",
    "  database=\"sqlCourse\"\n",
    ")\n",
    "\n",
    "db = mysql.connector.connect(\n",
    "  host=\"localhost\",\n",
    "  user=\"YOUR_USER\",\n",
    "  password=\"YOUR_PASSWORD\"\n",
    ")"
   ]
  },
  {
   "cell_type": "code",
   "execution_count": null,
   "id": "8be89d02-3d22-4a47-99c5-3d461c7ebcc1",
   "metadata": {},
   "outputs": [],
   "source": [
    "command = \"\"\"\n",
    "\n",
    "\"\"\"\n",
    "sql(command, db)"
   ]
  },
  {
   "cell_type": "markdown",
   "id": "da87f2e7-0ff5-4384-9d2f-39e85e8fe5a4",
   "metadata": {
    "tags": []
   },
   "source": [
    "## 2.- The kitchen store [db]\n",
    "\n",
    "A company that sells kitchens wants to increase its control over the elements that affect it. As a result of the analysis it carries out, it obtains the following information:\n",
    "\n",
    "- There are a number of manufacturers of kitchen furniture. \n",
    "\n",
    "- Each manufacturer has a name, address and a list of telephone numbers. \n",
    "\n",
    "- Each manufacturer produces several pieces of kitchen furniture. \n",
    "\n",
    "- A kitchen unit has a certain line, a certain colour, a certain size (width, height, length) and can have one of the following categories: wall unit, base unit, panel and worktop. \n",
    "\n",
    "- For base units it is important to know the height above the floor and for worktops it is important to know the type of worktop (marble or agglomerate).\n",
    "\n",
    "- Each manufacturer can work with several distributors and each distributor works with at least one manufacturer. \n",
    "\n",
    "- A distributor's name, address and a list of telephone numbers are available.\n",
    "\n",
    "- A kitchen is identified by a code and we are interested in knowing the number of pieces of furniture that make it up.\n",
    "\n",
    "- Each kitchen can be sold by only one distributor, although each distributor can sell several kitchens. A distributor can give a kitchen to another distributor, so that the latter can sell it.\n",
    "\n",
    "- Each kitchen must be assembled by at least one assembler and the same assembler can assemble several kitchens. We are interested in the assembler's VAT number, name, address, unique telephone number and the number of kitchens he has assembled.\n",
    "\n",
    "- Each kitchen can be bought by one or more customers and the same customer can buy several kitchens. We are interested in a customer's VAT number, name, address and unique telephone number."
   ]
  },
  {
   "cell_type": "markdown",
   "id": "57f718b5-a8b1-489e-8831-67377e5c7554",
   "metadata": {},
   "source": [
    "### A - Create a database\n",
    "\n",
    "### B - Create the tables\n",
    "\n",
    "Read the statements of the case presented above and create all the tables needed for them.\n",
    "Pay attention to the columns formatting\n",
    "\n",
    "### C - Insert data in the tables\n",
    "\n",
    "Insert at leat 5 items on each table"
   ]
  }
 ],
 "metadata": {
  "kernelspec": {
   "display_name": "Python 3 (ipykernel)",
   "language": "python",
   "name": "python3"
  },
  "language_info": {
   "codemirror_mode": {
    "name": "ipython",
    "version": 3
   },
   "file_extension": ".py",
   "mimetype": "text/x-python",
   "name": "python",
   "nbconvert_exporter": "python",
   "pygments_lexer": "ipython3",
   "version": "3.9.7"
  }
 },
 "nbformat": 4,
 "nbformat_minor": 5
}
