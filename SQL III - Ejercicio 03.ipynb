{
 "cells": [
  {
   "cell_type": "markdown",
   "id": "c3edd395-de0b-436e-bb58-686276a28106",
   "metadata": {},
   "source": [
    "# SQL III: Exercises\n",
    "\n",
    "In this notebook you're going to find some exercises to test what you've learnt in the lesson. You will need also to make some research in the internet to solve some of them.\n",
    "\n",
    "You will find `[db]` or `[dw]` on each exercise, this means where you should perform that exercise;\n",
    "\n",
    "- **[db]**: Is the local mysql instance you created in your computer (Localhost)\n",
    "- **[DW]**: Is the remote mysql instance located in `iosqlde.onairnet.xyz`\n",
    "\n",
    "Requirements and help\n",
    "\n",
    "You'll need to import pandas and the mysql connector.\n",
    "\n",
    "Also you can use the sql function we created in class\n",
    "\n",
    "## How to solve\n",
    "\n",
    "- You will find an empty var named `command` on each exercise, simply write your SQL code in ther and execute the cell. \n",
    "- Copy that cell as much times as commands you need to execute\n",
    "- Check in mysql Workbench if it worked."
   ]
  },
  {
   "cell_type": "code",
   "execution_count": null,
   "id": "fae7a016-4d4e-4e46-8781-31653c0f4a73",
   "metadata": {},
   "outputs": [],
   "source": [
    "#Imports\n",
    "import pandas as pd\n",
    "import mysql.connector\n",
    "\n",
    "#SQL Function\n",
    "def sql(_query, _con):\n",
    "    \n",
    "    cursor = _con.cursor()\n",
    "    cursor.execute(_query)\n",
    "    \n",
    "    cols = cursor.column_names\n",
    "    data = cursor.fetchall()\n",
    "    \n",
    "    _con.commit()\n",
    "    \n",
    "    df = pd.DataFrame(data, columns=cols)\n",
    "    \n",
    "    return df\n",
    "\n",
    "#Connections\n",
    "dw = mysql.connector.connect(\n",
    "  host=\"iosqlde.onairnet.xyz\",\n",
    "  user=\"assemblerReader\",\n",
    "  password=\"!Reader2022\",\n",
    "  database=\"sqlCourse\"\n",
    ")\n",
    "\n",
    "db = mysql.connector.connect(\n",
    "  host=\"localhost\",\n",
    "  user=\"YOUR_USER\",\n",
    "  password=\"YOUR_PASSWORD\"\n",
    ")"
   ]
  },
  {
   "cell_type": "code",
   "execution_count": null,
   "id": "8be89d02-3d22-4a47-99c5-3d461c7ebcc1",
   "metadata": {},
   "outputs": [],
   "source": [
    "command = \"\"\"\n",
    "\n",
    "\"\"\"\n",
    "sql(command, db)"
   ]
  },
  {
   "cell_type": "markdown",
   "id": "da87f2e7-0ff5-4384-9d2f-39e85e8fe5a4",
   "metadata": {
    "tags": []
   },
   "source": [
    "## 3.- The yatcht club [db]\n",
    "\n",
    "A yacht club wants to have computerised data on its facilities, employees, members and boats that are in the club. The club is organised as follows:\n",
    "\n",
    "- The members belonging to the club are defined by their name, address, ID number, telephone number and date of joining the club.\n",
    " \n",
    "- The boats are defined by: registration number, name, type and dimensions.\n",
    " \n",
    "- The moorings have as data of interest the mooring number, the water and electricity meter reading, and whether or not they have contracted maintenance services.\n",
    "\n",
    "- On the other hand, it must be taken into account that a boat belongs to one member, although a member can have several boats. A boat will occupy a mooring and a mooring is occupied by only one boat. The date on which a vessel is assigned to a mooring is important.\n",
    "\n",
    "- Members can own moorings, with the date of purchase of the mooring being important. It should be noted that a mooring belongs to only one member. \n",
    "\n",
    "- The yacht club is divided into several zones defined by a letter. A zone will have several moorings and a mooring belongs to only one zone.\n",
    "\n",
    "- As for the employees, they are defined by their code, name, address, telephone and speciality. An employee is assigned to several zones and in a zone there can be more than one employee, being of interest the number of boats he/she is in charge of in each zone. It should be noted that one employee may not be responsible for all the vessels in a zone."
   ]
  },
  {
   "cell_type": "markdown",
   "id": "57f718b5-a8b1-489e-8831-67377e5c7554",
   "metadata": {},
   "source": [
    "### A - Create a database\n",
    "\n",
    "### B - Create the tables\n",
    "\n",
    "Read the statements of the case presented above and create all the tables needed for them.\n",
    "Pay attention to the columns formatting\n",
    "\n",
    "### C - Insert data in the tables\n",
    "\n",
    "Insert at leat 5 items on each table"
   ]
  }
 ],
 "metadata": {
  "kernelspec": {
   "display_name": "Python 3 (ipykernel)",
   "language": "python",
   "name": "python3"
  },
  "language_info": {
   "codemirror_mode": {
    "name": "ipython",
    "version": 3
   },
   "file_extension": ".py",
   "mimetype": "text/x-python",
   "name": "python",
   "nbconvert_exporter": "python",
   "pygments_lexer": "ipython3",
   "version": "3.9.7"
  }
 },
 "nbformat": 4,
 "nbformat_minor": 5
}
